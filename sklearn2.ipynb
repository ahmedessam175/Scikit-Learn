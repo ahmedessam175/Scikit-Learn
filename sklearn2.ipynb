{
 "cells": [
  {
   "cell_type": "markdown",
   "id": "9b5ac504",
   "metadata": {},
   "source": [
    "# <font color='orange'>sklearn"
   ]
  },
  {
   "cell_type": "markdown",
   "id": "dbefc1bf",
   "metadata": {},
   "source": [
    "### ML Algorithms"
   ]
  },
  {
   "cell_type": "markdown",
   "id": "d76b8c76",
   "metadata": {},
   "source": [
    "# <font color='red'> ---First Regression"
   ]
  },
  {
   "cell_type": "markdown",
   "id": "d4d1ed27",
   "metadata": {},
   "source": [
    "#### 1-Linear Regression"
   ]
  },
  {
   "cell_type": "code",
   "execution_count": null,
   "id": "a9596cf0",
   "metadata": {},
   "outputs": [],
   "source": [
    "# Model Building\n",
    "from sklearn.linear_model import LinearRegression\n",
    "\n",
    "# Linear Regression\n",
    "lr = LinearRegression()\n",
    "lr.fit(X_train_preprocessed, y_train)\n",
    "lr.score(X_train_preprocessed, y_train)\n",
    "\n",
    "# Model Evaluation\n",
    "from sklearn.metrics import mean_squared_error, r2_score\n",
    "\n",
    "# Predictions\n",
    "y_pred = lr.predict(X_test_preprocessed)\n",
    "\n",
    "# Model Evaluation \n",
    "print('RMSE:', np.sqrt(mean_squared_error(y_test, y_pred)))\n",
    "print('R2:', r2_score(y_test, y_pred))\n",
    "print(lr.coef_)"
   ]
  },
  {
   "cell_type": "markdown",
   "id": "19c72b28",
   "metadata": {},
   "source": [
    "#### 2-Ridge"
   ]
  },
  {
   "cell_type": "code",
   "execution_count": null,
   "id": "08643943",
   "metadata": {},
   "outputs": [],
   "source": [
    "# Ridge Regression\n",
    "from sklearn.linear_model import Ridge\n",
    "ridge=Ridge()\n",
    "ridge.fit(X_train_preprocessed, y_train)\n",
    "lr.score(X_train_preprocessed, y_train)\n",
    "\n",
    "y_pred=ridge.predict(X_test_preprocessed)\n",
    "\n",
    "print('RMSE:', np.sqrt(mean_squared_error(y_test, y_pred)))\n",
    "print('R2:', r2_score(y_test, y_pred))\n"
   ]
  },
  {
   "cell_type": "markdown",
   "id": "01575411",
   "metadata": {},
   "source": [
    "#### 3-polynomial"
   ]
  },
  {
   "cell_type": "code",
   "execution_count": null,
   "id": "d993fb58",
   "metadata": {},
   "outputs": [],
   "source": [
    "#polynomial regression\n",
    "from sklearn.preprocessing import PolynomialFeatures\n",
    "from sklearn.pipeline import make_pipeline\n",
    "\n",
    "poly=make_pipeline(PolynomialFeatures(2),Ridge())\n",
    "poly.fit(X_train_preprocessed, y_train)\n",
    "\n",
    "y_pred=poly.predict(X_test_preprocessed)\n",
    "\n",
    "print('RMSE:', np.sqrt(mean_squared_error(y_test, y_pred)))\n",
    "print('R2:', r2_score(y_test, y_pred))"
   ]
  },
  {
   "cell_type": "code",
   "execution_count": null,
   "id": "266d325c",
   "metadata": {},
   "outputs": [],
   "source": [
    "def log_transform(x):\n",
    "    return np.log(x)\n",
    "y_train_log=log_transform(y_train)\n",
    "y_test_log=log_transform(y_test)\n",
    "\n",
    "# Linear Regression\n",
    "lr = LinearRegression()\n",
    "lr.fit(X_train_preprocessed,y_train_log)\n",
    "\n",
    "y_pred = lr.predict(X_test_preprocessed)\n",
    "\n",
    "print('RMSE:', np.sqrt(mean_squared_error(y_test_log, y_pred)))\n",
    "print('R2:', r2_score(y_test_log, y_pred))"
   ]
  },
  {
   "cell_type": "code",
   "execution_count": null,
   "id": "bac75545",
   "metadata": {},
   "outputs": [],
   "source": [
    "poly=make_pipeline(PolynomialFeatures(2),Ridge())\n",
    "poly.fit(X_train_preprocessed,y_train_log)\n",
    "\n",
    "y_pred=poly.predict(X_test_preprocessed)\n",
    "\n",
    "print('RMSE:', np.sqrt(mean_squared_error(y_test, y_pred)))\n",
    "print('R2:', r2_score(y_test_log, y_pred))  "
   ]
  },
  {
   "cell_type": "markdown",
   "id": "9f12c6a8",
   "metadata": {},
   "source": [
    "#### DecisionTreeRegressor"
   ]
  },
  {
   "cell_type": "code",
   "execution_count": null,
   "id": "46bb6836",
   "metadata": {},
   "outputs": [],
   "source": [
    "from sklearn.tree import DecisionTreeRegressor\n",
    "\n",
    "dt = DecisionTreeRegressor()\n",
    "\n",
    "dt.fit(x_train_processed, y_train)\n",
    "\n",
    "print('Training Score: ', dt.score(x_train_processed, y_train))\n",
    "print('Testing Score: ', dt.score(x_test_processed, y_test))"
   ]
  },
  {
   "cell_type": "markdown",
   "id": "44d636c5",
   "metadata": {},
   "source": [
    "#### Random Forest Regressor"
   ]
  },
  {
   "cell_type": "code",
   "execution_count": null,
   "id": "4f24d145",
   "metadata": {},
   "outputs": [],
   "source": [
    "from sklearn.ensemble import RandomForestRegressor\n",
    "\n",
    "# Random Forest Regressor\n",
    "rf_reg = RandomForestRegressor(n_estimators=100, max_depth=10, random_state=42)\n",
    "\n",
    "# Fitting the data\n",
    "rf_reg.fit(x_train_processed, y_train)\n",
    "\n",
    "# Checking the score\n",
    "print('Training Score: ', rf_reg.score(x_train_processed, y_train))\n",
    "print('Testing Score: ', rf_reg.score(x_test_processed, y_test))\n",
    "\n",
    "y_pred=rf_reg.predict(x_test_processed)\n",
    "\n",
    "print('rmes:',np.sqrt(mean_squared_error(y_test,y_pred)))\n",
    "print('r2:',r2_score(y_test,y_pred))\n"
   ]
  },
  {
   "cell_type": "markdown",
   "id": "fb222c79",
   "metadata": {},
   "source": [
    "#### AdaBoost Regressor"
   ]
  },
  {
   "cell_type": "code",
   "execution_count": null,
   "id": "74b887c8",
   "metadata": {},
   "outputs": [],
   "source": [
    "from sklearn.ensemble import AdaBoostRegressor\n",
    "\n",
    "ada_reg = AdaBoostRegressor(n_estimators=200, random_state=42)\n",
    "\n",
    "# Fitting the data\n",
    "ada_reg.fit(x_train_processed, y_train)\n",
    "\n",
    "y_pred=ada_reg.predict(x_test_processed)\n",
    "# Checking the score\n",
    "print('Training Score: ', ada_reg.score(x_train_processed, y_train))\n",
    "print('Testing Score: ', ada_reg.score(x_test_processed, y_test))\n",
    "\n",
    "print('rmes:',np.sqrt(mean_squared_error(y_test,y_pred)))\n",
    "print('r2:',r2_score(y_test,y_pred))"
   ]
  },
  {
   "cell_type": "markdown",
   "id": "9be4e750",
   "metadata": {},
   "source": [
    "#### GradientBoostingRegressor"
   ]
  },
  {
   "cell_type": "code",
   "execution_count": null,
   "id": "db92e15f",
   "metadata": {},
   "outputs": [],
   "source": [
    "from sklearn.ensemble import GradientBoostingRegressor\n",
    "\n",
    "grad_reg = GradientBoostingRegressor(n_estimators=200, max_depth=3, random_state=42)\n",
    "\n",
    "# Fitting the data\n",
    "grad_reg.fit(x_train_processed, y_train)\n",
    "\n",
    "y_pred=grad_reg.predict(x_test_processed)\n",
    "\n",
    "# Checking the score\n",
    "print('Training Score: ', grad_reg.score(x_train_processed, y_train))\n",
    "print('Testing Score: ', grad_reg.score(x_test_processed, y_test))\n",
    "\n",
    "print('rmes:',np.sqrt(mean_squared_error(y_test,y_pred)))\n",
    "print('r2:',r2_score(y_test,y_pred))"
   ]
  },
  {
   "cell_type": "markdown",
   "id": "bcb288c3",
   "metadata": {},
   "source": [
    "#### XGBRegressor"
   ]
  },
  {
   "cell_type": "code",
   "execution_count": null,
   "id": "bf4dbe5c",
   "metadata": {},
   "outputs": [],
   "source": [
    "from xgboost import XGBRegressor\n",
    "\n",
    "xgb = XGBRegressor(n_estimators=300, max_depth=3, random_state=42)\n",
    "\n",
    "# Fitting the data\n",
    "xgb.fit(x_train_processed, y_train)\n",
    "\n",
    "y_pred=xgb.predict(x_test_processed)\n",
    "\n",
    "# Checking the score\n",
    "print('Training Score: ', xgb.score(x_train_processed, y_train))\n",
    "print('Testing Score: ', xgb.score(x_test_processed, y_test))\n",
    "\n",
    "print('rmes:',np.sqrt(mean_squared_error(y_test,y_pred)))\n",
    "print('r2:',r2_score(y_test,y_pred))"
   ]
  },
  {
   "cell_type": "markdown",
   "id": "002f4017",
   "metadata": {},
   "source": [
    "#### Voting Regressor"
   ]
  },
  {
   "cell_type": "code",
   "execution_count": null,
   "id": "1f26d1dc",
   "metadata": {},
   "outputs": [],
   "source": [
    "from sklearn.ensemble import  VotingRegressor\n",
    "from sklearn.linear_model import LinearRegression\n",
    "from sklearn.tree import DecisionTreeRegressor\n",
    "from sklearn.svm import SVR\n",
    "\n",
    "# Weak Learners\n",
    "lin_reg = LinearRegression()\n",
    "dt_reg = DecisionTreeRegressor(max_depth=10)\n",
    "svr_reg = SVR(kernel='rbf')\n",
    "\n",
    "# Voting Regressor\n",
    "voting_reg = VotingRegressor(estimators=[('lr', lin_reg), ('dt', dt_reg), ('svr', svr_reg)])\n",
    "\n",
    "# Fitting the data\n",
    "voting_reg.fit(x_train_processed, y_train)\n",
    "\n",
    "# Checking the score\n",
    "print('Training Score: ', voting_reg.score(x_train_processed, y_train))\n",
    "print('Testing Score: ', voting_reg.score(x_test_processed, y_test))"
   ]
  },
  {
   "cell_type": "code",
   "execution_count": null,
   "id": "90c05b1c",
   "metadata": {},
   "outputs": [],
   "source": []
  },
  {
   "cell_type": "markdown",
   "id": "8a534b72",
   "metadata": {},
   "source": [
    "# <font color='red'> ---Second Classification"
   ]
  },
  {
   "cell_type": "markdown",
   "id": "e99bb3de",
   "metadata": {},
   "source": [
    "#### LogisticRegression"
   ]
  },
  {
   "cell_type": "code",
   "execution_count": null,
   "id": "136a734c",
   "metadata": {},
   "outputs": [],
   "source": [
    "from sklearn.linear_model import LogisticRegression\n",
    "from sklearn.metrics import classification_report,confusion_matrix\n",
    "from sklearn.metrics import f1_score, precision_score, recall_score,accuracy_score\n",
    "\n",
    "lr=LogisticRegression()\n",
    "\n",
    "lr.fit(x_train,y_train)\n",
    "\n",
    "pred=lr.predict(x_test)\n",
    "\n",
    "\n",
    "print(\"Classification Report is:\\n\",classification_report(y_test,pred))\n",
    "print(\"\\n F1:\\n\",f1_score(y_test,pred))\n",
    "print(\"\\n Precision score is:\\n\",precision_score(y_test,pred))\n",
    "print(\"\\n Recall score is:\\n\",recall_score(y_test,pred))\n",
    "print(\"\\n Confusion Matrix:\\n\")\n",
    "sns.heatmap(confusion_matrix(y_test,pred))"
   ]
  },
  {
   "cell_type": "markdown",
   "id": "56260598",
   "metadata": {},
   "source": [
    "#### 2.Support Vector Machine"
   ]
  },
  {
   "cell_type": "code",
   "execution_count": null,
   "id": "2cb32561",
   "metadata": {},
   "outputs": [],
   "source": [
    "from sklearn.svm import SVC\n",
    "from sklearn.model_selection import RepeatedStratifiedKFold\n",
    "from sklearn.model_selection import GridSearchCV\n",
    "from sklearn.metrics import classification_report,confusion_matrix\n",
    "from sklearn.metrics import f1_score, precision_score, recall_score\n",
    "\n",
    "model = SVC()\n",
    "kernel = ['poly', 'rbf', 'sigmoid']\n",
    "C = [50, 10, 1.0, 0.1, 0.01]\n",
    "gamma = ['scale']\n",
    "\n",
    "grid = dict(kernel=kernel,C=C,gamma=gamma)\n",
    "cv = RepeatedStratifiedKFold(n_splits=10, n_repeats=3, random_state=1)\n",
    "grid_search = GridSearchCV(estimator=model, param_grid=grid, n_jobs=-1, \n",
    "                           cv=cv, scoring='f1',error_score=0)\n",
    "\n",
    "\n",
    "svm = grid_search.fit(x_train, y_train)\n",
    "svm_pred=svm.predict(x_test)                           \n",
    "                          \n",
    "print(\"Classification Report is:\\n\",classification_report(y_test,svm_pred))\n",
    "print('*'*100)\n",
    "print(\"\\n F1:\\n\",f1_score(y_test,svm_pred))\n",
    "print(\"\\n Precision score is:\\n\",precision_score(y_test,svm_pred))\n",
    "print(\"\\n Recall score is:\\n\",recall_score(y_test,svm_pred))\n",
    "print(\"\\n Confusion Matrix:\\n\")\n",
    "sns.heatmap(confusion_matrix(y_test,svm_pred)) "
   ]
  },
  {
   "cell_type": "markdown",
   "id": "a23b01cc",
   "metadata": {},
   "source": [
    "#### DecisionTreeClassifier"
   ]
  },
  {
   "cell_type": "code",
   "execution_count": null,
   "id": "bfc8534c",
   "metadata": {},
   "outputs": [],
   "source": [
    "from sklearn.tree import DecisionTreeClassifier\n",
    "from sklearn.metrics import classification_report,confusion_matrix\n",
    "from sklearn.metrics import f1_score, precision_score, recall_score\n",
    "from sklearn.model_selection import GridSearchCV\n",
    "\n",
    "dt=DecisionTreeClassifier()\n",
    "\n",
    "params = {\n",
    "    'max_depth': [5, 10, 20,25],\n",
    "    'min_samples_leaf': [10, 20, 50, 100,120],\n",
    "    'criterion': [\"gini\", \"entropy\"]\n",
    "}\n",
    "\n",
    "grid_search = GridSearchCV(estimator=dt, \n",
    "                           param_grid=params, \n",
    "                           cv=4, n_jobs=-1, verbose=1, scoring = \"accuracy\")\n",
    "\n",
    "best_model=grid_search.fit(x_train, y_train)\n",
    "\n",
    "dt_pred=best_model.predict(x_test)\n",
    "\n",
    "\n",
    "print(\"Classification Report is:\\n\",classification_report(y_test,dt_pred))\n",
    "print('*'*100)\n",
    "print(\"\\n F1:\\n\",f1_score(y_test,dt_pred))\n",
    "print(\"\\n Precision score is:\\n\",precision_score(y_test,dt_pred))\n",
    "print(\"\\n Recall score is:\\n\",recall_score(y_test,dt_pred))\n",
    "print(\"\\n Confusion Matrix:\\n\")\n",
    "sns.heatmap(confusion_matrix(y_test,dt_pred))"
   ]
  },
  {
   "cell_type": "markdown",
   "id": "bf2365ea",
   "metadata": {},
   "source": [
    "#### RandomForestClassifier"
   ]
  },
  {
   "cell_type": "code",
   "execution_count": null,
   "id": "3c770dc3",
   "metadata": {},
   "outputs": [],
   "source": [
    "from sklearn.ensemble import RandomForestClassifier\n",
    "from sklearn.metrics import classification_report,confusion_matrix\n",
    "from sklearn.metrics import f1_score, precision_score, recall_score\n",
    "from sklearn.model_selection import RepeatedStratifiedKFold\n",
    "from sklearn.model_selection import GridSearchCV\n",
    "\n",
    "# define models and parameters\n",
    "rf= RandomForestClassifier()\n",
    "n_estimators = [1800]\n",
    "max_features = ['sqrt', 'log2']\n",
    "\n",
    "\n",
    "# define grid search\n",
    "grid = dict(n_estimators=n_estimators,max_features=max_features)\n",
    "cv = RepeatedStratifiedKFold(n_splits=10, n_repeats=3, random_state=1)\n",
    "grid_search = GridSearchCV(estimator=rf, param_grid=grid, n_jobs=-1, cv=cv, scoring='accuracy',error_score=0)\n",
    "\n",
    "\n",
    "best_model = grid_search.fit(x_train, y_train)\n",
    "\n",
    "rf_pred=best_model.predict(x_test)\n",
    "\n",
    "\n",
    "print(\"Classification Report is:\\n\",classification_report(y_test,rf_pred))\n",
    "print(\"\\n F1:\\n\",f1_score(y_test,rf_pred))\n",
    "print(\"\\n Precision score is:\\n\",precision_score(y_test,rf_pred))\n",
    "print(\"\\n Recall score is:\\n\",recall_score(y_test,rf_pred))\n",
    "print(\"\\n Confusion Matrix:\\n\")\n",
    "sns.heatmap(confusion_matrix(y_test,rf_pred))"
   ]
  },
  {
   "cell_type": "markdown",
   "id": "048295ce",
   "metadata": {},
   "source": [
    "#### KNeighborsClassifier"
   ]
  },
  {
   "cell_type": "code",
   "execution_count": null,
   "id": "9893b2be",
   "metadata": {},
   "outputs": [],
   "source": [
    "from sklearn.neighbors import KNeighborsClassifier\n",
    "from sklearn.metrics import classification_report,confusion_matrix\n",
    "from sklearn.metrics import f1_score, precision_score, recall_score\n",
    "\n",
    "knn=KNeighborsClassifier(n_neighbors=3)\n",
    "knn.fit(x_train, y_train)\n",
    "\n",
    "knn_pred=knn.predict(x_test)\n",
    "\n",
    "print(\"Classification Report is:\\n\",classification_report(y_test,knn_pred))\n",
    "print('*'*100)\n",
    "print(\"\\n F1:\\n\",f1_score(y_test,knn_pred))\n",
    "print(\"\\n Precision score is:\\n\",precision_score(y_test,knn_pred))\n",
    "print(\"\\n Recall score is:\\n\",recall_score(y_test,knn_pred))\n",
    "print(\"\\n Confusion Matrix:\\n\")\n",
    "sns.heatmap(confusion_matrix(y_test,knn_pred))"
   ]
  },
  {
   "cell_type": "markdown",
   "id": "63a64079",
   "metadata": {},
   "source": [
    "#### Naive Bayes"
   ]
  },
  {
   "cell_type": "code",
   "execution_count": null,
   "id": "f4fe3113",
   "metadata": {},
   "outputs": [],
   "source": [
    "from sklearn.naive_bayes import GaussianNB\n",
    "from sklearn.model_selection import GridSearchCV\n",
    "\n",
    "param_grid_nb = {\n",
    "    'var_smoothing': np.logspace(0,-2, num=100)\n",
    "}\n",
    "nbModel_grid = GridSearchCV(estimator=GaussianNB(), param_grid=param_grid_nb, verbose=1, cv=10, n_jobs=-1)\n",
    "\n",
    "\n",
    "best_model= nbModel_grid.fit(x_train, y_train)\n",
    "\n",
    "nb_pred=best_model.predict(x_test)\n",
    "\n",
    "\n",
    "print(\"Classification Report is:\\n\",classification_report(y_test,nb_pred))\n",
    "print('*'*100)\n",
    "print(\"\\n F1:\\n\",f1_score(y_test,nb_pred))\n",
    "print(\"\\n Precision score is:\\n\",precision_score(y_test,nb_pred))\n",
    "print(\"\\n Recall score is:\\n\",recall_score(y_test,nb_pred))\n",
    "print(\"\\n Confusion Matrix:\\n\")\n",
    "sns.heatmap(confusion_matrix(y_test,nb_pred))"
   ]
  },
  {
   "cell_type": "markdown",
   "id": "95420984",
   "metadata": {},
   "source": [
    "#### GradientBoostingClassifier"
   ]
  },
  {
   "cell_type": "code",
   "execution_count": null,
   "id": "d51abe83",
   "metadata": {},
   "outputs": [],
   "source": [
    "from sklearn.ensemble import GradientBoostingClassifier\n",
    "\n",
    "clf = GradientBoostingClassifier(n_estimators=100, learning_rate=1.0,\n",
    "max_depth=1, random_state=0).fit(x_train, y_train)\n",
    "\n",
    "pred=clf.predict(x_test)\n",
    "\n",
    "print(\"Classification Report is:\\n\",classification_report(y_test,pred))\n",
    "print('*'*100)\n",
    "print(\"\\n F1:\\n\",f1_score(y_test,pred))\n",
    "print(\"\\n Precision score is:\\n\",precision_score(y_test,pred))\n",
    "print(\"\\n Recall score is:\\n\",recall_score(y_test,pred))\n",
    "print(\"\\n Confusion Matrix:\\n\")\n",
    "sns.heatmap(confusion_matrix(y_test,pred))"
   ]
  },
  {
   "cell_type": "markdown",
   "id": "dfbfbf3d",
   "metadata": {},
   "source": [
    "#### BaggingClassifier"
   ]
  },
  {
   "cell_type": "code",
   "execution_count": null,
   "id": "e8734578",
   "metadata": {},
   "outputs": [],
   "source": [
    "from sklearn.ensemble import BaggingClassifier\n",
    "from sklearn.tree import DecisionTreeRegressor\n",
    "from sklearn.naive_bayes import GaussianNB\n",
    "from sklearn.ensemble import RandomForestClassifier\n",
    "from sklearn.linear_model import LogisticRegression\n",
    "\n",
    "\n",
    "# Weak Learner\n",
    "lg_reg = LogisticRegression()\n",
    "dt=DecisionTreeClassifier(max_depth=10)\n",
    "naive=GaussianNB()\n",
    "rf=RandomForestClassifier()\n",
    "\n",
    "# Bagging Regressor\n",
    "#bag_cls1 = BaggingClassifier(lg_reg, n_estimators=500, bootstrap=True, random_state=42)\n",
    "#bag_cls2 = BaggingClassifier(naive, n_estimators=10, bootstrap=True, random_state=42)\n",
    "bag_cls3 = BaggingClassifier(dt, n_estimators=100, bootstrap=True, random_state=42,\n",
    "                           max_features=0.8)\n",
    "                           \n",
    "\n",
    "# Fitting the data\n",
    "bag_cls3.fit(x_train, y_train)\n",
    "\n",
    "pred=bag_cls3.predict(x_test)\n",
    "# Checking the score\n",
    "\n",
    "print(\"Classification Report is:\\n\",classification_report(y_test,pred))\n",
    "print('*'*100)\n",
    "print(\"\\n F1:\\n\",f1_score(y_test,pred))\n",
    "print(\"\\n Precision score is:\\n\",precision_score(y_test,pred))\n",
    "print(\"\\n Recall score is:\\n\",recall_score(y_test,pred))\n",
    "print(\"\\n Confusion Matrix:\\n\")\n",
    "sns.heatmap(confusion_matrix(y_test,pred))"
   ]
  },
  {
   "cell_type": "markdown",
   "id": "33e638b4",
   "metadata": {},
   "source": [
    "#### XGBClassifier"
   ]
  },
  {
   "cell_type": "code",
   "execution_count": null,
   "id": "e9be15af",
   "metadata": {},
   "outputs": [],
   "source": [
    "from xgboost import XGBClassifier\n",
    "\n",
    "xgb = XGBClassifier(n_estimators=300, max_depth=3, random_state=42)\n",
    "\n",
    "# Fitting the data\n",
    "xgb.fit(x_train, y_train)\n",
    "\n",
    "pred=xgb.predict(x_test)\n",
    "# Checking the score\n",
    "print(\"Classification Report is:\\n\",classification_report(y_test,pred))\n",
    "print('*'*100)\n",
    "print(\"\\n F1:\\n\",f1_score(y_test,pred))\n",
    "print(\"\\n Precision score is:\\n\",precision_score(y_test,pred))\n",
    "print(\"\\n Recall score is:\\n\",recall_score(y_test,pred))\n",
    "print(\"\\n Confusion Matrix:\\n\")\n",
    "sns.heatmap(confusion_matrix(y_test,pred))"
   ]
  },
  {
   "cell_type": "markdown",
   "id": "30cc47a8",
   "metadata": {},
   "source": [
    "#### Neural Network classifier"
   ]
  },
  {
   "cell_type": "code",
   "execution_count": null,
   "id": "84d73299",
   "metadata": {},
   "outputs": [],
   "source": [
    "from keras.models import Sequential\n",
    "from keras.layers import Conv2D, MaxPooling2D\n",
    "from keras.layers import Activation, Dropout, Flatten, Dense\n",
    "import keras\n",
    "from keras.models import Sequential\n",
    "from keras.layers import Dense\n",
    "import warnings\n",
    "\n",
    "classifier = Sequential()\n",
    "\n",
    "# Adding the input layer and the first hidden layer\n",
    "classifier.add(Dense(output_dim = 11, init = 'uniform', activation = 'relu', input_dim = 22))\n",
    "\n",
    "# Adding the second hidden layer\n",
    "classifier.add(Dense(output_dim = 11, init = 'uniform', activation = 'relu'))\n",
    "\n",
    "# Adding the output layer\n",
    "classifier.add(Dense(output_dim = 1, init = 'uniform', activation = 'sigmoid'))\n",
    "\n",
    "# Compiling the ANN\n",
    "classifier.compile(optimizer = 'adam', loss = 'binary_crossentropy', metrics = ['accuracy'])\n",
    "\n",
    "\n",
    "classifier.fit(X_train, y_train, batch_size = 10, nb_epoch = 100)\n",
    "\n",
    "# Predicting the Test set results\n",
    "y_pred = classifier.predict(X_test)\n",
    "\n",
    "import seaborn as sns\n",
    "from sklearn.metrics import confusion_matrix\n",
    "cm = confusion_matrix(y_test, y_pred.round())\n",
    "sns.heatmap(cm,annot=True,cmap=\"Blues\",fmt=\"d\",cbar=False)\n",
    "#accuracy score\n",
    "from sklearn.metrics import accuracy_score\n",
    "ac=accuracy_score(y_test, y_pred.round())\n",
    "print('accuracy of the model: ',ac)"
   ]
  },
  {
   "cell_type": "code",
   "execution_count": null,
   "id": "f1538ab0",
   "metadata": {},
   "outputs": [],
   "source": []
  },
  {
   "cell_type": "markdown",
   "id": "abc8e070",
   "metadata": {},
   "source": [
    "# <font color='blue'> Ahmed Essam"
   ]
  }
 ],
 "metadata": {
  "kernelspec": {
   "display_name": "Python 3 (ipykernel)",
   "language": "python",
   "name": "python3"
  },
  "language_info": {
   "codemirror_mode": {
    "name": "ipython",
    "version": 3
   },
   "file_extension": ".py",
   "mimetype": "text/x-python",
   "name": "python",
   "nbconvert_exporter": "python",
   "pygments_lexer": "ipython3",
   "version": "3.9.16"
  }
 },
 "nbformat": 4,
 "nbformat_minor": 5
}
